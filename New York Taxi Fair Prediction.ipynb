{
 "cells": [
  {
   "cell_type": "code",
   "execution_count": 2,
   "metadata": {},
   "outputs": [],
   "source": [
    "import numpy as np\n",
    "import pandas as pd\n",
    "from pandas import Series,DataFrame\n",
    "\n",
    "# For Visualization\n",
    "import seaborn as sns\n",
    "import matplotlib.pyplot as plt\n",
    "%matplotlib inline \n",
    "sns.set_style('whitegrid')\n",
    "pd.set_option('display.float_format', lambda x: '%.3f' % x)\n",
    "\n",
    "# For time stamps\n",
    "from datetime import datetime\n",
    "\n",
    "# For division\n",
    "from __future__ import division"
   ]
  },
  {
   "cell_type": "code",
   "execution_count": 3,
   "metadata": {},
   "outputs": [],
   "source": [
    "#read train csv file with only 5million rows (rather than 55m rows, dropping key column)\n",
    "taxi = pd.read_csv('train_1.csv', nrows=5000000).drop(columns='key')"
   ]
  },
  {
   "cell_type": "code",
   "execution_count": 4,
   "metadata": {},
   "outputs": [
    {
     "data": {
      "text/html": [
       "<div>\n",
       "<style scoped>\n",
       "    .dataframe tbody tr th:only-of-type {\n",
       "        vertical-align: middle;\n",
       "    }\n",
       "\n",
       "    .dataframe tbody tr th {\n",
       "        vertical-align: top;\n",
       "    }\n",
       "\n",
       "    .dataframe thead th {\n",
       "        text-align: right;\n",
       "    }\n",
       "</style>\n",
       "<table border=\"1\" class=\"dataframe\">\n",
       "  <thead>\n",
       "    <tr style=\"text-align: right;\">\n",
       "      <th></th>\n",
       "      <th>fare_amount</th>\n",
       "      <th>pickup_longitude</th>\n",
       "      <th>pickup_latitude</th>\n",
       "      <th>dropoff_longitude</th>\n",
       "      <th>dropoff_latitude</th>\n",
       "      <th>passenger_count</th>\n",
       "    </tr>\n",
       "  </thead>\n",
       "  <tbody>\n",
       "    <tr>\n",
       "      <th>count</th>\n",
       "      <td>5000000.000</td>\n",
       "      <td>5000000.000</td>\n",
       "      <td>5000000.000</td>\n",
       "      <td>4999964.000</td>\n",
       "      <td>4999964.000</td>\n",
       "      <td>5000000.000</td>\n",
       "    </tr>\n",
       "    <tr>\n",
       "      <th>mean</th>\n",
       "      <td>11.341</td>\n",
       "      <td>-72.507</td>\n",
       "      <td>39.920</td>\n",
       "      <td>-72.507</td>\n",
       "      <td>39.917</td>\n",
       "      <td>1.685</td>\n",
       "    </tr>\n",
       "    <tr>\n",
       "      <th>std</th>\n",
       "      <td>9.820</td>\n",
       "      <td>12.810</td>\n",
       "      <td>8.964</td>\n",
       "      <td>12.848</td>\n",
       "      <td>9.487</td>\n",
       "      <td>1.332</td>\n",
       "    </tr>\n",
       "    <tr>\n",
       "      <th>min</th>\n",
       "      <td>-100.000</td>\n",
       "      <td>-3426.609</td>\n",
       "      <td>-3488.080</td>\n",
       "      <td>-3412.653</td>\n",
       "      <td>-3488.080</td>\n",
       "      <td>0.000</td>\n",
       "    </tr>\n",
       "    <tr>\n",
       "      <th>25%</th>\n",
       "      <td>6.000</td>\n",
       "      <td>-73.992</td>\n",
       "      <td>40.735</td>\n",
       "      <td>-73.991</td>\n",
       "      <td>40.734</td>\n",
       "      <td>1.000</td>\n",
       "    </tr>\n",
       "    <tr>\n",
       "      <th>50%</th>\n",
       "      <td>8.500</td>\n",
       "      <td>-73.982</td>\n",
       "      <td>40.753</td>\n",
       "      <td>-73.980</td>\n",
       "      <td>40.753</td>\n",
       "      <td>1.000</td>\n",
       "    </tr>\n",
       "    <tr>\n",
       "      <th>75%</th>\n",
       "      <td>12.500</td>\n",
       "      <td>-73.967</td>\n",
       "      <td>40.767</td>\n",
       "      <td>-73.964</td>\n",
       "      <td>40.768</td>\n",
       "      <td>2.000</td>\n",
       "    </tr>\n",
       "    <tr>\n",
       "      <th>max</th>\n",
       "      <td>1273.310</td>\n",
       "      <td>3439.426</td>\n",
       "      <td>3310.364</td>\n",
       "      <td>3457.622</td>\n",
       "      <td>3345.917</td>\n",
       "      <td>208.000</td>\n",
       "    </tr>\n",
       "  </tbody>\n",
       "</table>\n",
       "</div>"
      ],
      "text/plain": [
       "       fare_amount  pickup_longitude  pickup_latitude  dropoff_longitude  \\\n",
       "count  5000000.000       5000000.000      5000000.000        4999964.000   \n",
       "mean        11.341           -72.507           39.920            -72.507   \n",
       "std          9.820            12.810            8.964             12.848   \n",
       "min       -100.000         -3426.609        -3488.080          -3412.653   \n",
       "25%          6.000           -73.992           40.735            -73.991   \n",
       "50%          8.500           -73.982           40.753            -73.980   \n",
       "75%         12.500           -73.967           40.767            -73.964   \n",
       "max       1273.310          3439.426         3310.364           3457.622   \n",
       "\n",
       "       dropoff_latitude  passenger_count  \n",
       "count       4999964.000      5000000.000  \n",
       "mean             39.917            1.685  \n",
       "std               9.487            1.332  \n",
       "min           -3488.080            0.000  \n",
       "25%              40.734            1.000  \n",
       "50%              40.753            1.000  \n",
       "75%              40.768            2.000  \n",
       "max            3345.917          208.000  "
      ]
     },
     "execution_count": 4,
     "metadata": {},
     "output_type": "execute_result"
    }
   ],
   "source": [
    "#initial stats on dataset of 5 M rows\n",
    "\n",
    "taxi.describe()"
   ]
  },
  {
   "cell_type": "code",
   "execution_count": 5,
   "metadata": {},
   "outputs": [
    {
     "data": {
      "text/html": [
       "<div>\n",
       "<style scoped>\n",
       "    .dataframe tbody tr th:only-of-type {\n",
       "        vertical-align: middle;\n",
       "    }\n",
       "\n",
       "    .dataframe tbody tr th {\n",
       "        vertical-align: top;\n",
       "    }\n",
       "\n",
       "    .dataframe thead th {\n",
       "        text-align: right;\n",
       "    }\n",
       "</style>\n",
       "<table border=\"1\" class=\"dataframe\">\n",
       "  <thead>\n",
       "    <tr style=\"text-align: right;\">\n",
       "      <th></th>\n",
       "      <th>fare_amount</th>\n",
       "      <th>pickup_datetime</th>\n",
       "      <th>pickup_longitude</th>\n",
       "      <th>pickup_latitude</th>\n",
       "      <th>dropoff_longitude</th>\n",
       "      <th>dropoff_latitude</th>\n",
       "      <th>passenger_count</th>\n",
       "    </tr>\n",
       "  </thead>\n",
       "  <tbody>\n",
       "    <tr>\n",
       "      <th>0</th>\n",
       "      <td>4.500</td>\n",
       "      <td>2009-06-15 17:26:21 UTC</td>\n",
       "      <td>-73.844</td>\n",
       "      <td>40.721</td>\n",
       "      <td>-73.842</td>\n",
       "      <td>40.712</td>\n",
       "      <td>1</td>\n",
       "    </tr>\n",
       "    <tr>\n",
       "      <th>1</th>\n",
       "      <td>16.900</td>\n",
       "      <td>2010-01-05 16:52:16 UTC</td>\n",
       "      <td>-74.016</td>\n",
       "      <td>40.711</td>\n",
       "      <td>-73.979</td>\n",
       "      <td>40.782</td>\n",
       "      <td>1</td>\n",
       "    </tr>\n",
       "    <tr>\n",
       "      <th>2</th>\n",
       "      <td>5.700</td>\n",
       "      <td>2011-08-18 00:35:00 UTC</td>\n",
       "      <td>-73.983</td>\n",
       "      <td>40.761</td>\n",
       "      <td>-73.991</td>\n",
       "      <td>40.751</td>\n",
       "      <td>2</td>\n",
       "    </tr>\n",
       "    <tr>\n",
       "      <th>3</th>\n",
       "      <td>7.700</td>\n",
       "      <td>2012-04-21 04:30:42 UTC</td>\n",
       "      <td>-73.987</td>\n",
       "      <td>40.733</td>\n",
       "      <td>-73.992</td>\n",
       "      <td>40.758</td>\n",
       "      <td>1</td>\n",
       "    </tr>\n",
       "    <tr>\n",
       "      <th>4</th>\n",
       "      <td>5.300</td>\n",
       "      <td>2010-03-09 07:51:00 UTC</td>\n",
       "      <td>-73.968</td>\n",
       "      <td>40.768</td>\n",
       "      <td>-73.957</td>\n",
       "      <td>40.784</td>\n",
       "      <td>1</td>\n",
       "    </tr>\n",
       "  </tbody>\n",
       "</table>\n",
       "</div>"
      ],
      "text/plain": [
       "   fare_amount          pickup_datetime  pickup_longitude  pickup_latitude  \\\n",
       "0        4.500  2009-06-15 17:26:21 UTC           -73.844           40.721   \n",
       "1       16.900  2010-01-05 16:52:16 UTC           -74.016           40.711   \n",
       "2        5.700  2011-08-18 00:35:00 UTC           -73.983           40.761   \n",
       "3        7.700  2012-04-21 04:30:42 UTC           -73.987           40.733   \n",
       "4        5.300  2010-03-09 07:51:00 UTC           -73.968           40.768   \n",
       "\n",
       "   dropoff_longitude  dropoff_latitude  passenger_count  \n",
       "0            -73.842            40.712                1  \n",
       "1            -73.979            40.782                1  \n",
       "2            -73.991            40.751                2  \n",
       "3            -73.992            40.758                1  \n",
       "4            -73.957            40.784                1  "
      ]
     },
     "execution_count": 5,
     "metadata": {},
     "output_type": "execute_result"
    }
   ],
   "source": [
    "#From above dataset \n",
    "    # minimum fare is negative\n",
    "    #min and max longitude and latitude looks weird\n",
    "    #min passenger count is 0 \n",
    "\n",
    "taxi.head()   "
   ]
  },
  {
   "cell_type": "code",
   "execution_count": 12,
   "metadata": {},
   "outputs": [],
   "source": [
    "taxi = taxi[((taxi['pickup_longitude'] >-78) & (taxi['pickup_longitude'] < -70)) & \n",
    "            ((taxi['dropoff_longitude']>-78) & (taxi['dropoff_longitude'] < -70)) & \n",
    "            ((taxi['pickup_latitude'] > 37)& (taxi['pickup_latitude'] < 45)) & \n",
    "            ((taxi['dropoff_latitude']> 37) & (taxi['dropoff_latitude']<45)) &\n",
    "            (taxi['passenger_count'] > 0) & (taxi['fare_amount'] >= 2.5)]"
   ]
  },
  {
   "cell_type": "code",
   "execution_count": 13,
   "metadata": {
    "scrolled": true
   },
   "outputs": [
    {
     "data": {
      "text/html": [
       "<div>\n",
       "<style scoped>\n",
       "    .dataframe tbody tr th:only-of-type {\n",
       "        vertical-align: middle;\n",
       "    }\n",
       "\n",
       "    .dataframe tbody tr th {\n",
       "        vertical-align: top;\n",
       "    }\n",
       "\n",
       "    .dataframe thead th {\n",
       "        text-align: right;\n",
       "    }\n",
       "</style>\n",
       "<table border=\"1\" class=\"dataframe\">\n",
       "  <thead>\n",
       "    <tr style=\"text-align: right;\">\n",
       "      <th></th>\n",
       "      <th>fare_amount</th>\n",
       "      <th>pickup_longitude</th>\n",
       "      <th>pickup_latitude</th>\n",
       "      <th>dropoff_longitude</th>\n",
       "      <th>dropoff_latitude</th>\n",
       "      <th>passenger_count</th>\n",
       "    </tr>\n",
       "  </thead>\n",
       "  <tbody>\n",
       "    <tr>\n",
       "      <th>count</th>\n",
       "      <td>4878498.000</td>\n",
       "      <td>4878498.000</td>\n",
       "      <td>4878498.000</td>\n",
       "      <td>4878498.000</td>\n",
       "      <td>4878498.000</td>\n",
       "      <td>4878498.000</td>\n",
       "    </tr>\n",
       "    <tr>\n",
       "      <th>mean</th>\n",
       "      <td>11.333</td>\n",
       "      <td>-73.975</td>\n",
       "      <td>40.751</td>\n",
       "      <td>-73.974</td>\n",
       "      <td>40.751</td>\n",
       "      <td>1.690</td>\n",
       "    </tr>\n",
       "    <tr>\n",
       "      <th>std</th>\n",
       "      <td>9.727</td>\n",
       "      <td>0.043</td>\n",
       "      <td>0.034</td>\n",
       "      <td>0.042</td>\n",
       "      <td>0.037</td>\n",
       "      <td>1.314</td>\n",
       "    </tr>\n",
       "    <tr>\n",
       "      <th>min</th>\n",
       "      <td>2.500</td>\n",
       "      <td>-77.902</td>\n",
       "      <td>37.031</td>\n",
       "      <td>-77.971</td>\n",
       "      <td>37.031</td>\n",
       "      <td>1.000</td>\n",
       "    </tr>\n",
       "    <tr>\n",
       "      <th>25%</th>\n",
       "      <td>6.000</td>\n",
       "      <td>-73.992</td>\n",
       "      <td>40.737</td>\n",
       "      <td>-73.992</td>\n",
       "      <td>40.736</td>\n",
       "      <td>1.000</td>\n",
       "    </tr>\n",
       "    <tr>\n",
       "      <th>50%</th>\n",
       "      <td>8.500</td>\n",
       "      <td>-73.982</td>\n",
       "      <td>40.753</td>\n",
       "      <td>-73.981</td>\n",
       "      <td>40.754</td>\n",
       "      <td>1.000</td>\n",
       "    </tr>\n",
       "    <tr>\n",
       "      <th>75%</th>\n",
       "      <td>12.500</td>\n",
       "      <td>-73.968</td>\n",
       "      <td>40.768</td>\n",
       "      <td>-73.965</td>\n",
       "      <td>40.768</td>\n",
       "      <td>2.000</td>\n",
       "    </tr>\n",
       "    <tr>\n",
       "      <th>max</th>\n",
       "      <td>952.000</td>\n",
       "      <td>-70.000</td>\n",
       "      <td>44.732</td>\n",
       "      <td>-70.002</td>\n",
       "      <td>44.728</td>\n",
       "      <td>208.000</td>\n",
       "    </tr>\n",
       "  </tbody>\n",
       "</table>\n",
       "</div>"
      ],
      "text/plain": [
       "       fare_amount  pickup_longitude  pickup_latitude  dropoff_longitude  \\\n",
       "count  4878498.000       4878498.000      4878498.000        4878498.000   \n",
       "mean        11.333           -73.975           40.751            -73.974   \n",
       "std          9.727             0.043            0.034              0.042   \n",
       "min          2.500           -77.902           37.031            -77.971   \n",
       "25%          6.000           -73.992           40.737            -73.992   \n",
       "50%          8.500           -73.982           40.753            -73.981   \n",
       "75%         12.500           -73.968           40.768            -73.965   \n",
       "max        952.000           -70.000           44.732            -70.002   \n",
       "\n",
       "       dropoff_latitude  passenger_count  \n",
       "count       4878498.000      4878498.000  \n",
       "mean             40.751            1.690  \n",
       "std               0.037            1.314  \n",
       "min              37.031            1.000  \n",
       "25%              40.736            1.000  \n",
       "50%              40.754            1.000  \n",
       "75%              40.768            2.000  \n",
       "max              44.728          208.000  "
      ]
     },
     "execution_count": 13,
     "metadata": {},
     "output_type": "execute_result"
    }
   ],
   "source": [
    "taxi.describe()"
   ]
  },
  {
   "cell_type": "code",
   "execution_count": 24,
   "metadata": {},
   "outputs": [
    {
     "data": {
      "text/plain": [
       "(0, 200)"
      ]
     },
     "execution_count": 24,
     "metadata": {},
     "output_type": "execute_result"
    },
    {
     "data": {
      "image/png": "[encoded data removed]",
      "text/plain": [
       "<Figure size 432x288 with 1 Axes>"
      ]
     },
     "metadata": {},
     "output_type": "display_data"
    }
   ],
   "source": [
    "plt.hist(taxi.fare_amount, 1000, color = 'indianred')\n",
    "plt.xlabel('Fare Amount')\n",
    "plt.title('Histogram of fare amount')\n",
    "plt.xlim(0,200)"
   ]
  },
  {
   "cell_type": "code",
   "execution_count": 26,
   "metadata": {},
   "outputs": [
    {
     "data": {
      "text/plain": [
       "fare_amount\n",
       "6.500     237317\n",
       "4.500     200433\n",
       "8.500     183203\n",
       "5.700     142304\n",
       "5.300     142293\n",
       "6.100     138084\n",
       "4.900     138049\n",
       "6.900     127239\n",
       "10.500    124046\n",
       "7.300     119606\n",
       "dtype: int64"
      ]
     },
     "execution_count": 26,
     "metadata": {},
     "output_type": "execute_result"
    }
   ],
   "source": [
    "#histogram of fare amounts shows magority of fare amounts are very small (less than 50$)\n",
    "\n",
    "taxi.groupby('fare_amount').size().nlargest(10)"
   ]
  },
  {
   "cell_type": "code",
   "execution_count": 33,
   "metadata": {},
   "outputs": [
    {
     "data": {
      "text/plain": [
       "fare_amount\n",
       "6.500     237317\n",
       "4.500     200433\n",
       "8.500     183203\n",
       "5.700     142304\n",
       "5.300     142293\n",
       "6.100     138084\n",
       "4.900     138049\n",
       "6.900     127239\n",
       "10.500    124046\n",
       "7.300     119606\n",
       "dtype: int64"
      ]
     },
     "execution_count": 33,
     "metadata": {},
     "output_type": "execute_result"
    }
   ],
   "source": [
    "#this indicates most fare amount are very small \n",
    "\n",
    "taxi.groupby('fare_amount').size().nlargest(10)"
   ]
  },
  {
   "cell_type": "code",
   "execution_count": 10,
   "metadata": {},
   "outputs": [
    {
     "data": {
      "text/plain": [
       "passenger_count\n",
       "0        17639\n",
       "1      3459028\n",
       "2       738350\n",
       "3       219265\n",
       "4       106019\n",
       "5       353909\n",
       "6       105778\n",
       "7            1\n",
       "9            2\n",
       "51           1\n",
       "129          1\n",
       "208          7\n",
       "dtype: int64"
      ]
     },
     "execution_count": 10,
     "metadata": {},
     "output_type": "execute_result"
    }
   ],
   "source": [
    "taxi.groupby('passenger_count').size()"
   ]
  },
  {
   "cell_type": "code",
   "execution_count": 21,
   "metadata": {},
   "outputs": [
    {
     "data": {
      "image/png": "[encoded data removed]",
      "text/plain": [
       "<Figure size 432x288 with 1 Axes>"
      ]
     },
     "metadata": {},
     "output_type": "display_data"
    }
   ],
   "source": [
    "taxi['fare-bin'] = pd.cut(taxi['fare_amount'], bins = list(range(0,50,5))).astype(str)\n",
    "\n",
    "taxi.loc[taxi['fare-bin'] == 'nan', 'fare-bin'] = '[45+]'\n",
    "\n",
    "taxi.loc[taxi['fare-bin'] == '(5,10]', 'fare-bin'] = '(05,10]'\n",
    "\n",
    "taxi['fare-bin'].value_counts().sort_index().plot.bar(color = 'b', edgecolor = 'k');\n",
    "plt.title('fare binned');"
   ]
  },
  {
   "cell_type": "code",
   "execution_count": 15,
   "metadata": {},
   "outputs": [
    {
     "data": {
      "image/png": "[encoded data removed]",
      "text/plain": [
       "<Figure size 432x288 with 1 Axes>"
      ]
     },
     "metadata": {},
     "output_type": "display_data"
    }
   ],
   "source": [
    "#number of passengers per rides\n",
    "\n",
    "taxi['passenger_count'].value_counts().sort_index().plot.bar(color = 'b', edgecolor = 'k');\n",
    "plt.title('passenger count');"
   ]
  },
  {
   "cell_type": "code",
   "execution_count": null,
   "metadata": {},
   "outputs": [],
   "source": []
  }
 ],
 "metadata": {
  "kernelspec": {
   "display_name": "Python 2",
   "language": "python",
   "name": "python2"
  },
  "language_info": {
   "codemirror_mode": {
    "name": "ipython",
    "version": 2
   },
   "file_extension": ".py",
   "mimetype": "text/x-python",
   "name": "python",
   "nbconvert_exporter": "python",
   "pygments_lexer": "ipython2",
   "version": "2.7.15"
  }
 },
 "nbformat": 4,
 "nbformat_minor": 2
}
